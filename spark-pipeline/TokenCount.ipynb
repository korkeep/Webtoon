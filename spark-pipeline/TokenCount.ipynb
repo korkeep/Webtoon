{
 "cells": [
  {
   "cell_type": "code",
   "execution_count": 1,
   "metadata": {},
   "outputs": [],
   "source": [
    "import findspark\n",
    "findspark.init('/home/hadoop/spark-2.2.2-bin-hadoop2.7')\n",
    "from pyspark import SparkContext, SparkConf\n",
    "from pyspark.sql import SQLContext\n",
    "conf = SparkConf().setAppName(\"miniProject\").setMaster(\"spark://master:7077\")\n",
    "sc = SparkContext(conf=conf)\n",
    "sqlcontext = SQLContext(sc)"
   ]
  },
  {
   "cell_type": "code",
   "execution_count": 2,
   "metadata": {},
   "outputs": [
    {
     "name": "stdout",
     "output_type": "stream",
     "text": [
      "+--------+--------------------+\n",
      "|title_id|              tokens|\n",
      "+--------+--------------------+\n",
      "|  112931|[정주행, 하시는, 분들, 추천...|\n",
      "|  112931|[만, 렙이, 레이, 드, 못,...|\n",
      "|  112931|[아랑소드, 용사, 시절, 에피...|\n",
      "|  112931|[본격, 드래곤, 이, 자기, ...|\n",
      "|  112931|[본격, 세계, 를구한, 드래곤...|\n",
      "+--------+--------------------+\n",
      "only showing top 5 rows\n",
      "\n"
     ]
    }
   ],
   "source": [
    "token_df = sqlcontext.read.parquet(\"hdfs://master:9000/user/hadoop/all_hangul_tokens/part-00000-b55b78ed-216f-4c7d-b173-a63291f97ba0-c000.snappy.parquet\", \n",
    "                    \"hdfs://master:9000/user/hadoop/all_hangul_tokens/part-00001-b55b78ed-216f-4c7d-b173-a63291f97ba0-c000.snappy.parquet\",\n",
    "                    \"hdfs://master:9000/user/hadoop/all_hangul_tokens/part-00002-b55b78ed-216f-4c7d-b173-a63291f97ba0-c000.snappy.parquet\",\n",
    "                    \"hdfs://master:9000/user/hadoop/all_hangul_tokens/part-00003-b55b78ed-216f-4c7d-b173-a63291f97ba0-c000.snappy.parquet\")\n",
    "token_df.select('title_id','tokens').show(5) #example"
   ]
  },
  {
   "cell_type": "code",
   "execution_count": 4,
   "metadata": {},
   "outputs": [
    {
     "name": "stdout",
     "output_type": "stream",
     "text": [
      "+--------+-----+---+\n",
      "|title_id|token|  1|\n",
      "+--------+-----+---+\n",
      "|  112931|  정주행|  1|\n",
      "|  112931|  하시는|  1|\n",
      "|  112931|   분들|  1|\n",
      "|  112931|   추천|  1|\n",
      "|  112931|   한번|  1|\n",
      "+--------+-----+---+\n",
      "only showing top 5 rows\n",
      "\n"
     ]
    }
   ],
   "source": [
    "import pyspark.sql.functions as F\n",
    "split_udf=F.udf(lambda s: s[1:-1])\n",
    "token_df=token_df.select('title_id','tokens').withColumn('split', F.split(split_udf(token_df.tokens),', ') )\n",
    "mapped_df=token_df.select(token_df.title_id, F.explode(token_df.split).alias('token'), F.lit(1)).filter(F.length('token')>1)\n",
    "mapped_df.show(5)"
   ]
  },
  {
   "cell_type": "code",
   "execution_count": 11,
   "metadata": {},
   "outputs": [],
   "source": [
    "token_count=mapped_df.groupBy('title_id','token').count().orderBy('title_id', F.desc('count'))\n",
    "token_count.write.parquet('hdfs://master:9000/user/hadoop/token_count')"
   ]
  },
  {
   "cell_type": "code",
   "execution_count": 14,
   "metadata": {},
   "outputs": [
    {
     "name": "stdout",
     "output_type": "stream",
     "text": [
      "+--------+-----+-----+\n",
      "|title_id|token|count|\n",
      "+--------+-----+-----+\n",
      "|  119874|  수집이|    3|\n",
      "|  119874| 전쟁터가|    3|\n",
      "|  119874|  푸시고|    3|\n",
      "|  119874|  미간이|    3|\n",
      "|  119874|  바다에|    3|\n",
      "+--------+-----+-----+\n",
      "only showing top 5 rows\n",
      "\n"
     ]
    }
   ],
   "source": [
    "token_count=sqlcontext.read.parquet('hdfs://master:9000/user/hadoop/token_count')\n",
    "token_count.show(5)"
   ]
  },
  {
   "cell_type": "code",
   "execution_count": 16,
   "metadata": {},
   "outputs": [
    {
     "name": "stdout",
     "output_type": "stream",
     "text": [
      "+-----+----------+\n",
      "|token|sum(count)|\n",
      "+-----+----------+\n",
      "|  도발을|        64|\n",
      "|  듯요전|         3|\n",
      "|  시다고|        98|\n",
      "|  손대는|        41|\n",
      "|   외려|        35|\n",
      "+-----+----------+\n",
      "only showing top 5 rows\n",
      "\n"
     ]
    }
   ],
   "source": [
    "token_count_sum=token_count.groupBy('token').sum('count')\n",
    "token_count_sum.show(5)"
   ]
  }
 ],
 "metadata": {
  "kernelspec": {
   "display_name": "venv",
   "language": "python",
   "name": "venv"
  },
  "language_info": {
   "codemirror_mode": {
    "name": "ipython",
    "version": 3
   },
   "file_extension": ".py",
   "mimetype": "text/x-python",
   "name": "python",
   "nbconvert_exporter": "python",
   "pygments_lexer": "ipython3",
   "version": "3.5.2"
  }
 },
 "nbformat": 4,
 "nbformat_minor": 2
}