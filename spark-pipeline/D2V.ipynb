{
 "cells": [
  {
   "cell_type": "code",
   "execution_count": 1,
   "metadata": {},
   "outputs": [
    {
     "data": {
      "application/vnd.jupyter.widget-view+json": {
       "model_id": "f76a6074a9d845f5a1236b7d1c322d0b",
       "version_major": 2,
       "version_minor": 0
      },
      "text/plain": [
       "VBox()"
      ]
     },
     "metadata": {},
     "output_type": "display_data"
    },
    {
     "name": "stdout",
     "output_type": "stream",
     "text": [
      "Starting Spark application\n"
     ]
    },
    {
     "data": {
      "text/html": [
       "<table>\n",
       "<tr><th>ID</th><th>YARN Application ID</th><th>Kind</th><th>State</th><th>Spark UI</th><th>Driver log</th><th>Current session?</th></tr><tr><td>0</td><td>application_1592377355348_0001</td><td>pyspark</td><td>idle</td><td><a target=\"_blank\" href=\"http://ip-172-31-21-201.ap-northeast-2.compute.internal:20888/proxy/application_1592377355348_0001/\">Link</a></td><td><a target=\"_blank\" href=\"http://ip-172-31-21-113.ap-northeast-2.compute.internal:8042/node/containerlogs/container_1592377355348_0001_01_000001/livy\">Link</a></td><td>✔</td></tr></table>"
      ],
      "text/plain": [
       "<IPython.core.display.HTML object>"
      ]
     },
     "metadata": {},
     "output_type": "display_data"
    },
    {
     "data": {
      "application/vnd.jupyter.widget-view+json": {
       "model_id": "",
       "version_major": 2,
       "version_minor": 0
      },
      "text/plain": [
       "FloatProgress(value=0.0, bar_style='info', description='Progress:', layout=Layout(height='25px', width='50%'),…"
      ]
     },
     "metadata": {},
     "output_type": "display_data"
    },
    {
     "name": "stdout",
     "output_type": "stream",
     "text": [
      "SparkSession available as 'spark'.\n"
     ]
    },
    {
     "data": {
      "application/vnd.jupyter.widget-view+json": {
       "model_id": "",
       "version_major": 2,
       "version_minor": 0
      },
      "text/plain": [
       "FloatProgress(value=0.0, bar_style='info', description='Progress:', layout=Layout(height='25px', width='50%'),…"
      ]
     },
     "metadata": {},
     "output_type": "display_data"
    }
   ],
   "source": [
    "from pyspark import SparkContext, SparkConf\n",
    "from pyspark.sql import SQLContext\n",
    "sc = SparkContext.getOrCreate()\n",
    "sqlcontext = SQLContext(sc)\n",
    "import pyspark.sql.functions as F\n",
    "from pyspark.ml.linalg import Vectors, VectorUDT"
   ]
  },
  {
   "cell_type": "code",
   "execution_count": 5,
   "metadata": {},
   "outputs": [
    {
     "data": {
      "application/vnd.jupyter.widget-view+json": {
       "model_id": "63b82c9ed96f41fa8cc8b168d184f0da",
       "version_major": 2,
       "version_minor": 0
      },
      "text/plain": [
       "VBox()"
      ]
     },
     "metadata": {},
     "output_type": "display_data"
    },
    {
     "data": {
      "application/vnd.jupyter.widget-view+json": {
       "model_id": "",
       "version_major": 2,
       "version_minor": 0
      },
      "text/plain": [
       "FloatProgress(value=0.0, bar_style='info', description='Progress:', layout=Layout(height='25px', width='50%'),…"
      ]
     },
     "metadata": {},
     "output_type": "display_data"
    }
   ],
   "source": [
    "weighted=sqlcontext.read.parquet(\"hdfs://master:9000/user/hadoop/weighted_vector\")"
   ]
  },
  {
   "cell_type": "code",
   "execution_count": 6,
   "metadata": {},
   "outputs": [
    {
     "data": {
      "application/vnd.jupyter.widget-view+json": {
       "model_id": "2183a7c0eb1b48b8896ed910b26d203e",
       "version_major": 2,
       "version_minor": 0
      },
      "text/plain": [
       "VBox()"
      ]
     },
     "metadata": {},
     "output_type": "display_data"
    },
    {
     "data": {
      "application/vnd.jupyter.widget-view+json": {
       "model_id": "",
       "version_major": 2,
       "version_minor": 0
      },
      "text/plain": [
       "FloatProgress(value=0.0, bar_style='info', description='Progress:', layout=Layout(height='25px', width='50%'),…"
      ]
     },
     "metadata": {},
     "output_type": "display_data"
    },
    {
     "name": "stdout",
     "output_type": "stream",
     "text": [
      "+-----+--------+--------------------+\n",
      "|token|title_id|            weighted|\n",
      "+-----+--------+--------------------+\n",
      "| 가따|   64997|[-0.0770580247044...|\n",
      "| 가따|   72497|[-0.0770580247044...|\n",
      "| 가따|  626907|[-0.0770580247044...|\n",
      "| 가따|  551647|[-0.0770580247044...|\n",
      "| 가따|  702608|[-0.0770580247044...|\n",
      "| 가따|  710754|[-0.0770580247044...|\n",
      "| 가따|  471283|[-0.0770580247044...|\n",
      "| 가따|  524520|[-0.0770580247044...|\n",
      "| 가따|  670144|[-0.0770580247044...|\n",
      "| 가따|  709732|[-0.0770580247044...|\n",
      "| 가따|  710768|[-0.0770580247044...|\n",
      "| 가따|  727189|[-0.0770580247044...|\n",
      "| 가따|  683496|[-0.0770580247044...|\n",
      "| 가따|  563786|[-0.0770580247044...|\n",
      "| 가렌|   64997|[-0.0327281914651...|\n",
      "| 가렌|  602287|[-0.0327281914651...|\n",
      "| 가렌|  602910|[-0.2290973402559...|\n",
      "| 가렌|  551647|[-0.3927382975816...|\n",
      "| 가렌|  670152|[-0.0327281914651...|\n",
      "| 가렌|  730425|[-0.0327281914651...|\n",
      "+-----+--------+--------------------+\n",
      "only showing top 20 rows"
     ]
    }
   ],
   "source": [
    "weighted.show()"
   ]
  },
  {
   "cell_type": "code",
   "execution_count": 9,
   "metadata": {},
   "outputs": [
    {
     "data": {
      "application/vnd.jupyter.widget-view+json": {
       "model_id": "53e4d7109398492980c00ee4aafca1bb",
       "version_major": 2,
       "version_minor": 0
      },
      "text/plain": [
       "VBox()"
      ]
     },
     "metadata": {},
     "output_type": "display_data"
    },
    {
     "data": {
      "application/vnd.jupyter.widget-view+json": {
       "model_id": "",
       "version_major": 2,
       "version_minor": 0
      },
      "text/plain": [
       "FloatProgress(value=0.0, bar_style='info', description='Progress:', layout=Layout(height='25px', width='50%'),…"
      ]
     },
     "metadata": {},
     "output_type": "display_data"
    },
    {
     "name": "stdout",
     "output_type": "stream",
     "text": [
      "+--------+------+-----+\n",
      "|title_id| token|count|\n",
      "+--------+------+-----+\n",
      "|  635187|  늑대|  113|\n",
      "|  635187|작가님|   84|\n",
      "|  635187|  진짜|   75|\n",
      "|  635187|  하는|   69|\n",
      "|  635187|  보고|   65|\n",
      "|  635187|  벌레|   65|\n",
      "|  635187|  으로|   61|\n",
      "|  635187|  에서|   57|\n",
      "|  635187|  빨간|   53|\n",
      "|  635187|  사람|   52|\n",
      "|  635187|  웹툰|   46|\n",
      "|  635187|  생각|   44|\n",
      "|  635187|  라고|   42|\n",
      "|  635187|합니다|   42|\n",
      "|  635187|  하고|   41|\n",
      "|  635187|  있는|   40|\n",
      "|  635187|  정말|   40|\n",
      "|  635187|  연의|   39|\n",
      "|  635187|  만화|   39|\n",
      "|  635187|  프로|   38|\n",
      "+--------+------+-----+\n",
      "only showing top 20 rows"
     ]
    }
   ],
   "source": [
    "token_count=sqlcontext.read.parquet(\"hdfs://master:9000/user/hadoop/token_count\")\n",
    "token_count.show()"
   ]
  },
  {
   "cell_type": "code",
   "execution_count": 11,
   "metadata": {},
   "outputs": [
    {
     "data": {
      "application/vnd.jupyter.widget-view+json": {
       "model_id": "83ed942bd0d3470a96410c01388c5160",
       "version_major": 2,
       "version_minor": 0
      },
      "text/plain": [
       "VBox()"
      ]
     },
     "metadata": {},
     "output_type": "display_data"
    },
    {
     "data": {
      "application/vnd.jupyter.widget-view+json": {
       "model_id": "",
       "version_major": 2,
       "version_minor": 0
      },
      "text/plain": [
       "FloatProgress(value=0.0, bar_style='info', description='Progress:', layout=Layout(height='25px', width='50%'),…"
      ]
     },
     "metadata": {},
     "output_type": "display_data"
    },
    {
     "name": "stdout",
     "output_type": "stream",
     "text": [
      "+--------+----------+\n",
      "|title_id|sum(count)|\n",
      "+--------+----------+\n",
      "|   25517|        43|\n",
      "|  400735|      2171|\n",
      "|  721109|     94829|\n",
      "|  738145|     10156|\n",
      "|  671421|     33787|\n",
      "|  737628|      7343|\n",
      "|  739113|      3042|\n",
      "|  662774|    284145|\n",
      "|  703841|     56724|\n",
      "|  670131|     25523|\n",
      "|  729044|     11453|\n",
      "|  737836|      7117|\n",
      "|  719508|     13616|\n",
      "|  739292|     19523|\n",
      "|  703846|    151620|\n",
      "|  317362|      7300|\n",
      "|  721260|     28976|\n",
      "|  498158|     10977|\n",
      "|  729049|     25717|\n",
      "|  374970|     11049|\n",
      "+--------+----------+\n",
      "only showing top 20 rows"
     ]
    }
   ],
   "source": [
    "token_sum = token_count.groupBy('title_id').sum('count')\n",
    "token_sum.show()"
   ]
  },
  {
   "cell_type": "code",
   "execution_count": 14,
   "metadata": {},
   "outputs": [
    {
     "data": {
      "application/vnd.jupyter.widget-view+json": {
       "model_id": "067fac05db30428296c9b3c320db3338",
       "version_major": 2,
       "version_minor": 0
      },
      "text/plain": [
       "VBox()"
      ]
     },
     "metadata": {},
     "output_type": "display_data"
    },
    {
     "data": {
      "application/vnd.jupyter.widget-view+json": {
       "model_id": "",
       "version_major": 2,
       "version_minor": 0
      },
      "text/plain": [
       "FloatProgress(value=0.0, bar_style='info', description='Progress:', layout=Layout(height='25px', width='50%'),…"
      ]
     },
     "metadata": {},
     "output_type": "display_data"
    },
    {
     "name": "stdout",
     "output_type": "stream",
     "text": [
      "DataFrame[title_id: int, sum(count): bigint, doc2vec: vector]"
     ]
    }
   ],
   "source": [
    "vector_agg=F.udf(lambda list_of_vec, total_tf: sum(list(list_of_vec))/total_tf,VectorUDT())\n",
    "doc2vec = weighted.join(token_sum, 'title_id').select('token','title_id','weighted', 'sum(count)').groupBy('title_id', 'sum(count)').agg(vector_agg(F.collect_list('weighted'),'sum(count)').alias('doc2vec'))\n",
    "doc2vec"
   ]
  },
  {
   "cell_type": "code",
   "execution_count": 15,
   "metadata": {},
   "outputs": [
    {
     "data": {
      "application/vnd.jupyter.widget-view+json": {
       "model_id": "ef1381734a234d13b24a8e9382b044b7",
       "version_major": 2,
       "version_minor": 0
      },
      "text/plain": [
       "VBox()"
      ]
     },
     "metadata": {},
     "output_type": "display_data"
    },
    {
     "data": {
      "application/vnd.jupyter.widget-view+json": {
       "model_id": "",
       "version_major": 2,
       "version_minor": 0
      },
      "text/plain": [
       "FloatProgress(value=0.0, bar_style='info', description='Progress:', layout=Layout(height='25px', width='50%'),…"
      ]
     },
     "metadata": {},
     "output_type": "display_data"
    },
    {
     "name": "stdout",
     "output_type": "stream",
     "text": [
      "+--------+----------+--------------------+\n",
      "|title_id|sum(count)|             doc2vec|\n",
      "+--------+----------+--------------------+\n",
      "|   25517|        43|[-0.0105203234503...|\n",
      "|  400735|      2171|[-0.0027542388064...|\n",
      "|  671421|     33787|[-0.0054135264087...|\n",
      "|  721109|     94829|[0.00701903070860...|\n",
      "|  738145|     10156|[-0.0208011262970...|\n",
      "|  662774|    284145|[-0.0196802492258...|\n",
      "|  670131|     25523|[-0.0128888864669...|\n",
      "|  703841|     56724|[-5.9259301955923...|\n",
      "|  737628|      7343|[-6.1573829728346...|\n",
      "|  739113|      3042|[-0.0085619193076...|\n",
      "|  719508|     13616|[-0.0097138986078...|\n",
      "|  729044|     11453|[-0.0135098049821...|\n",
      "|  737836|      7117|[-0.0137159900368...|\n",
      "|  739292|     19523|[-0.0101766710384...|\n",
      "|  317362|      7300|[0.00358121572659...|\n",
      "|  498158|     10977|[-0.0081041887773...|\n",
      "|  703846|    151620|[-0.0020181413243...|\n",
      "|  721260|     28976|[-0.0058713119659...|\n",
      "|  729049|     25717|[-0.0063999681697...|\n",
      "|  318995|    515771|[-0.0199124875127...|\n",
      "+--------+----------+--------------------+\n",
      "only showing top 20 rows"
     ]
    }
   ],
   "source": [
    "doc2vec.show()"
   ]
  },
  {
   "cell_type": "code",
   "execution_count": 16,
   "metadata": {},
   "outputs": [
    {
     "data": {
      "application/vnd.jupyter.widget-view+json": {
       "model_id": "818df382797e471689102401cf69f74e",
       "version_major": 2,
       "version_minor": 0
      },
      "text/plain": [
       "VBox()"
      ]
     },
     "metadata": {},
     "output_type": "display_data"
    },
    {
     "data": {
      "application/vnd.jupyter.widget-view+json": {
       "model_id": "",
       "version_major": 2,
       "version_minor": 0
      },
      "text/plain": [
       "FloatProgress(value=0.0, bar_style='info', description='Progress:', layout=Layout(height='25px', width='50%'),…"
      ]
     },
     "metadata": {},
     "output_type": "display_data"
    }
   ],
   "source": [
    "doc2vec.select('title_id','doc2vec').write.parquet(\"hdfs://master:9000/user/hadoop/doc2vec\")"
   ]
  },
  {
   "cell_type": "code",
   "execution_count": 20,
   "metadata": {},
   "outputs": [
    {
     "data": {
      "application/vnd.jupyter.widget-view+json": {
       "model_id": "435bbfef17804930826efc53b0a0aa4d",
       "version_major": 2,
       "version_minor": 0
      },
      "text/plain": [
       "VBox()"
      ]
     },
     "metadata": {},
     "output_type": "display_data"
    },
    {
     "data": {
      "application/vnd.jupyter.widget-view+json": {
       "model_id": "",
       "version_major": 2,
       "version_minor": 0
      },
      "text/plain": [
       "FloatProgress(value=0.0, bar_style='info', description='Progress:', layout=Layout(height='25px', width='50%'),…"
      ]
     },
     "metadata": {},
     "output_type": "display_data"
    },
    {
     "name": "stdout",
     "output_type": "stream",
     "text": [
      "DataFrame[title_id: int, doc2vec: vector]"
     ]
    }
   ],
   "source": [
    "d2v = sqlcontext.read.parquet(\"hdfs://master:9000/user/hadoop/doc2vec\")\n",
    "\n",
    "d2v"
   ]
  },
  {
   "cell_type": "code",
   "execution_count": 25,
   "metadata": {},
   "outputs": [
    {
     "data": {
      "application/vnd.jupyter.widget-view+json": {
       "model_id": "e5bac53bf4604fe485eeaf425a25a6c1",
       "version_major": 2,
       "version_minor": 0
      },
      "text/plain": [
       "VBox()"
      ]
     },
     "metadata": {},
     "output_type": "display_data"
    },
    {
     "data": {
      "application/vnd.jupyter.widget-view+json": {
       "model_id": "",
       "version_major": 2,
       "version_minor": 0
      },
      "text/plain": [
       "FloatProgress(value=0.0, bar_style='info', description='Progress:', layout=Layout(height='25px', width='50%'),…"
      ]
     },
     "metadata": {},
     "output_type": "display_data"
    },
    {
     "name": "stdout",
     "output_type": "stream",
     "text": [
      "+--------+--------------------+--------------------+\n",
      "|title_id|             doc2vec|                 d2v|\n",
      "+--------+--------------------+--------------------+\n",
      "|  186814|[-0.0020889922624...|[-0.0020889922624...|\n",
      "|  563786|[-0.0183606380001...|[-0.0183606380001...|\n",
      "|  680193|[-0.0040888356811...|[-0.0040888356811...|\n",
      "|  685989|[-0.0042875406409...|[-0.0042875406409...|\n",
      "|  703852|[-0.0090778826599...|[-0.0090778826599...|\n",
      "+--------+--------------------+--------------------+\n",
      "only showing top 5 rows"
     ]
    }
   ],
   "source": [
    "from pyspark.sql.types import *\n",
    "d2v_csv=d2v.withColumn('d2v', d2v['doc2vec'].cast(StringType()))\n",
    "d2v_csv.show(5)"
   ]
  },
  {
   "cell_type": "code",
   "execution_count": 26,
   "metadata": {},
   "outputs": [
    {
     "data": {
      "application/vnd.jupyter.widget-view+json": {
       "model_id": "e1b72728e37a4b6399418b670e999b20",
       "version_major": 2,
       "version_minor": 0
      },
      "text/plain": [
       "VBox()"
      ]
     },
     "metadata": {},
     "output_type": "display_data"
    },
    {
     "data": {
      "application/vnd.jupyter.widget-view+json": {
       "model_id": "",
       "version_major": 2,
       "version_minor": 0
      },
      "text/plain": [
       "FloatProgress(value=0.0, bar_style='info', description='Progress:', layout=Layout(height='25px', width='50%'),…"
      ]
     },
     "metadata": {},
     "output_type": "display_data"
    }
   ],
   "source": [
    "d2v_csv.select('title_id','d2v').write.csv(\"hdfs://master:9000/user/hadoop/doc2vec_csv\")"
   ]
  },
  {
   "cell_type": "code",
   "execution_count": null,
   "metadata": {},
   "outputs": [],
   "source": []
  }
 ],
 "metadata": {
  "kernelspec": {
   "display_name": "PySpark",
   "language": "",
   "name": "pysparkkernel"
  },
  "language_info": {
   "codemirror_mode": {
    "name": "python",
    "version": 2
   },
   "mimetype": "text/x-python",
   "name": "pyspark",
   "pygments_lexer": "python2"
  }
 },
 "nbformat": 4,
 "nbformat_minor": 4
}