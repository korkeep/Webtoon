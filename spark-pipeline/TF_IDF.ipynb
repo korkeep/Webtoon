{
 "cells": [
  {
   "cell_type": "markdown",
   "metadata": {},
   "source": [
    "# Import PySpark"
   ]
  },
  {
   "cell_type": "code",
   "execution_count": 1,
   "metadata": {},
   "outputs": [],
   "source": [
    "import findspark\n",
    "findspark.init('/home/hadoop/spark-2.2.2-bin-hadoop2.7')\n",
    "from pyspark import SparkContext, SparkConf\n",
    "from pyspark.sql import SQLContext\n",
    "conf = SparkConf().setAppName(\"miniProject\").setMaster(\"spark://master:7077\")\n",
    "sc = SparkContext(conf=conf)\n",
    "sqlcontext = SQLContext(sc)"
   ]
  },
  {
   "cell_type": "markdown",
   "metadata": {},
   "source": [
    "# Load Term Frequency"
   ]
  },
  {
   "cell_type": "code",
   "execution_count": 2,
   "metadata": {},
   "outputs": [
    {
     "name": "stdout",
     "output_type": "stream",
     "text": [
      "+--------+-----+-----+\n",
      "|title_id|token|count|\n",
      "+--------+-----+-----+\n",
      "|  119874|  수집이|    3|\n",
      "|  119874| 전쟁터가|    3|\n",
      "|  119874|  푸시고|    3|\n",
      "|  119874|  미간이|    3|\n",
      "|  119874|  바다에|    3|\n",
      "+--------+-----+-----+\n",
      "only showing top 5 rows\n",
      "\n"
     ]
    }
   ],
   "source": [
    "token_count=sqlcontext.read.parquet('hdfs://master:9000/user/hadoop/token_count')\n",
    "token_count.show(5)"
   ]
  },
  {
   "cell_type": "markdown",
   "metadata": {},
   "source": [
    "# Calculate Document Frequency"
   ]
  },
  {
   "cell_type": "code",
   "execution_count": 3,
   "metadata": {},
   "outputs": [
    {
     "name": "stdout",
     "output_type": "stream",
     "text": [
      "+-----+---+----------+\n",
      "|token| DF|sum(count)|\n",
      "+-----+---+----------+\n",
      "|  무라로|  4|         5|\n",
      "|노예대하듯|  1|         1|\n",
      "|  자시길|  5|         5|\n",
      "|  불이익|106|       318|\n",
      "|  대처를| 79|       123|\n",
      "|  구수한| 21|        22|\n",
      "|   외면|200|       671|\n",
      "|  큰행운|  1|         1|\n",
      "|   것진|  1|         1|\n",
      "|   보신|273|       953|\n",
      "+-----+---+----------+\n",
      "only showing top 10 rows\n",
      "\n"
     ]
    }
   ],
   "source": [
    "import pyspark.sql.functions as F\n",
    "\n",
    "frequencies=token_count.groupBy('token').agg(F.countDistinct('title_id').alias('DF'), F.sum('count'))\n",
    "frequencies.show(10)"
   ]
  },
  {
   "cell_type": "code",
   "execution_count": 4,
   "metadata": {},
   "outputs": [
    {
     "data": {
      "text/plain": [
       "618"
      ]
     },
     "execution_count": 4,
     "metadata": {},
     "output_type": "execute_result"
    }
   ],
   "source": [
    "D_count=token_count.agg(F.countDistinct('title_id').alias('D_count')).collect()[0].D_count # calculate number of documents |D|\n",
    "D_count"
   ]
  },
  {
   "cell_type": "code",
   "execution_count": 10,
   "metadata": {},
   "outputs": [
    {
     "name": "stdout",
     "output_type": "stream",
     "text": [
      "+--------+-----+-----+---+-------+\n",
      "|title_id|token|count| DF|D_count|\n",
      "+--------+-----+-----+---+-------+\n",
      "|  502673|가게였지만|    1|  1|    618|\n",
      "|  710751|  가격후|    1|  1|    618|\n",
      "|  732955|  가계에|    1|  5|    618|\n",
      "|  727838|  가계에|    1|  5|    618|\n",
      "|  616239|  가계에|    1|  5|    618|\n",
      "+--------+-----+-----+---+-------+\n",
      "only showing top 5 rows\n",
      "\n"
     ]
    }
   ],
   "source": [
    "freq_frame=token_count.join(frequencies, 'token').select('title_id','token','count','DF').withColumn('D_count',F.lit(D_count))\n",
    "freq_frame.show(5)"
   ]
  },
  {
   "cell_type": "code",
   "execution_count": 12,
   "metadata": {},
   "outputs": [
    {
     "name": "stdout",
     "output_type": "stream",
     "text": [
      "+--------+-----+------------------+\n",
      "|title_id|token|            TF_IDF|\n",
      "+--------+-----+------------------+\n",
      "|   15441|  엄친아| 174.0557530848959|\n",
      "|   15441|   워니|130.06036471563695|\n",
      "|   15441|  워니님| 115.9244642157694|\n",
      "|   15441|골방환상곡|113.62293383527297|\n",
      "|   15441|  포켓몬|59.750041766894654|\n",
      "+--------+-----+------------------+\n",
      "only showing top 5 rows\n",
      "\n"
     ]
    }
   ],
   "source": [
    "freq_frame=freq_frame.withColumnRenamed(\"count\", \"TF\")\n",
    "tf_idf_frame=freq_frame.withColumn('TF_IDF',freq_frame.TF*F.log(freq_frame.D_count/freq_frame.DF)).select('title_id','token','TF_IDF').orderBy('title_id', F.desc('TF_IDF'))\n",
    "tf_idf_frame.show(5)"
   ]
  },
  {
   "cell_type": "code",
   "execution_count": 15,
   "metadata": {},
   "outputs": [
    {
     "name": "stdout",
     "output_type": "stream",
     "text": [
      "+--------+-----+-------------------+----+\n",
      "|title_id|token|             TF_IDF|rank|\n",
      "+--------+-----+-------------------+----+\n",
      "|   25517|  감찰국| 3.6538997352179097|   1|\n",
      "|   25517|  벗으며| 3.3354460040993748|   2|\n",
      "|   25517|   고라| 2.6198259676873707|   3|\n",
      "|   25517|  찹쌀떡| 2.5978470609685957|   4|\n",
      "|   25517|  모른단| 2.5552874465497997|   5|\n",
      "|   25517|   있대| 2.0957551171713598|   6|\n",
      "|   25517|   식스| 1.7630493633456237|   7|\n",
      "|   25517|  맙소사| 1.5589540070021084|   8|\n",
      "|   25517|   대장| 1.2617024835341768|   9|\n",
      "|   25517|   나야| 1.0651962917482658|  10|\n",
      "|   25517|  참신한| 1.0328609111053293|  11|\n",
      "|   25517|  누군데| 1.0238110755854113|  12|\n",
      "|   25517|  누군지| 0.5156918134171636|  13|\n",
      "|   25517|   슬프|0.48106784885111564|  14|\n",
      "|   25517|   센스| 0.4450742462032102|  15|\n",
      "|   25517|   녀석|0.43252703015112154|  16|\n",
      "|   25517|   화가|0.28844342112336857|  17|\n",
      "|   25517|   죽을|0.22597928341500068|  18|\n",
      "|   25517|   그게|0.18997321512799922|  19|\n",
      "|   25517|  아직도|0.17265964588221772|  20|\n",
      "+--------+-----+-------------------+----+\n",
      "only showing top 20 rows\n",
      "\n"
     ]
    }
   ],
   "source": [
    "from pyspark.sql.window import Window\n",
    "window = Window.partitionBy(tf_idf_frame['title_id']).orderBy('title_id', F.desc('TF_IDF'))\n",
    "\n",
    "trunked_tf_idf_frame=tf_idf_frame.select('*', F.rank().over(window).alias('rank')).filter(F.col('rank') <= 100) \n",
    "\n",
    "trunked_tf_idf_frame.show()"
   ]
  },
  {
   "cell_type": "code",
   "execution_count": 17,
   "metadata": {},
   "outputs": [],
   "source": [
    "trunked_tf_idf_frame.write.parquet('hdfs://master:9000/user/hadoop/tf_idf')\n",
    "trunked_tf_idf_frame.write.csv('hdfs://master:9000/user/hadoop/tf_idf.csv')"
   ]
  },
  {
   "cell_type": "code",
   "execution_count": 18,
   "metadata": {},
   "outputs": [
    {
     "data": {
      "text/plain": [
       "1653840"
      ]
     },
     "execution_count": 18,
     "metadata": {},
     "output_type": "execute_result"
    }
   ],
   "source": [
    "Term_count=token_count.agg(F.countDistinct('token').alias('Term_count')).collect()[0].Term_count # calculate number of documents |D|\n",
    "Term_count"
   ]
  },
  {
   "cell_type": "markdown",
   "metadata": {},
   "source": [
    "# DF 기반 재분석"
   ]
  },
  {
   "cell_type": "code",
   "execution_count": 31,
   "metadata": {},
   "outputs": [
    {
     "name": "stdout",
     "output_type": "stream",
     "text": [
      "+-------+---+----------+\n",
      "|  token| DF|sum(count)|\n",
      "+-------+---+----------+\n",
      "|     목줄| 74|       339|\n",
      "|     외면|200|       671|\n",
      "|    이뻐요|174|       554|\n",
      "|     짤리|131|       335|\n",
      "|    죽여도|173|       600|\n",
      "|     있엌|218|       741|\n",
      "|     상하|101|       220|\n",
      "|  기가막히게| 81|       123|\n",
      "|     기적|130|       395|\n",
      "|    즐거운|241|      1070|\n",
      "|존경스럽습니다|105|       265|\n",
      "|    반복하|139|       277|\n",
      "|     맞게|322|      1465|\n",
      "|     쉬지|153|       406|\n",
      "|    중심적| 71|       111|\n",
      "|   처절하게| 69|       150|\n",
      "|     지름|127|       246|\n",
      "|    바지에|214|       693|\n",
      "|     왔니| 73|       122|\n",
      "|    쿨하게|170|       441|\n",
      "+-------+---+----------+\n",
      "only showing top 20 rows\n",
      "\n"
     ]
    }
   ],
   "source": [
    "frequencies=frequencies.filter(' 62 < DF and DF  < 492 ').show()"
   ]
  },
  {
   "cell_type": "code",
   "execution_count": null,
   "metadata": {},
   "outputs": [],
   "source": []
  }
 ],
 "metadata": {
  "kernelspec": {
   "display_name": "venv",
   "language": "python",
   "name": "venv"
  },
  "language_info": {
   "codemirror_mode": {
    "name": "ipython",
    "version": 3
   },
   "file_extension": ".py",
   "mimetype": "text/x-python",
   "name": "python",
   "nbconvert_exporter": "python",
   "pygments_lexer": "ipython3",
   "version": "3.5.2"
  }
 },
 "nbformat": 4,
 "nbformat_minor": 2
}
