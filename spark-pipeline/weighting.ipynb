{
 "cells": [
  {
   "cell_type": "code",
   "execution_count": 1,
   "metadata": {},
   "outputs": [],
   "source": [
    "import findspark\n",
    "findspark.init('/home/hadoop/spark-2.2.2-bin-hadoop2.7')\n",
    "from pyspark import SparkContext, SparkConf\n",
    "from pyspark.sql import SQLContext\n",
    "conf = SparkConf().setMaster(\"spark://master:7077\")\n",
    "sc = SparkContext.getOrCreate()\n",
    "sqlcontext = SQLContext(sc)\n",
    "import pyspark.sql.functions as F"
   ]
  },
  {
   "cell_type": "code",
   "execution_count": 2,
   "metadata": {},
   "outputs": [],
   "source": [
    "token_count=sqlcontext.read.parquet('hdfs://master:9000/user/hadoop/token_count')"
   ]
  },
  {
   "cell_type": "code",
   "execution_count": 5,
   "metadata": {},
   "outputs": [
    {
     "name": "stdout",
     "output_type": "stream",
     "text": [
      "+-----+--------------------+\n",
      "|token|              vector|\n",
      "+-----+--------------------+\n",
      "|  정주행|[0.17401356, 0.20...|\n",
      "|  하시는|[0.027278962, 0.0...|\n",
      "|   분들|[0.099800214, 0.0...|\n",
      "|   추천|[0.111774914, 0.0...|\n",
      "|   한번|[0.05483717, -0.0...|\n",
      "+-----+--------------------+\n",
      "only showing top 5 rows\n",
      "\n"
     ]
    }
   ],
   "source": [
    "wv_df = sqlcontext.read.parquet('hdfs://master:9000/user/hadoop/w2v.parquet')\n",
    "wv_df.show(5)"
   ]
  },
  {
   "cell_type": "code",
   "execution_count": 6,
   "metadata": {},
   "outputs": [],
   "source": [
    "from pyspark.ml.linalg import Vectors, VectorUDT\n",
    "\n",
    "vectorize = F.udf(lambda w, l: w*Vectors.dense(l), VectorUDT())\n",
    "joined=token_count.join(wv_df, 'token')\n",
    "weighted=joined.withColumn('weighted', vectorize(joined['count'],joined['vector'])).select('token','title_id','weighted')"
   ]
  },
  {
   "cell_type": "code",
   "execution_count": 7,
   "metadata": {},
   "outputs": [],
   "source": [
    "weighted.write.parquet(\"hdfs://master:9000/user/hadoop/weighted_vector\")"
   ]
  }
 ],
 "metadata": {
  "kernelspec": {
   "display_name": "venv",
   "language": "python",
   "name": "venv"
  },
  "language_info": {
   "codemirror_mode": {
    "name": "ipython",
    "version": 3
   },
   "file_extension": ".py",
   "mimetype": "text/x-python",
   "name": "python",
   "nbconvert_exporter": "python",
   "pygments_lexer": "ipython3",
   "version": "3.5.2"
  }
 },
 "nbformat": 4,
 "nbformat_minor": 2
}