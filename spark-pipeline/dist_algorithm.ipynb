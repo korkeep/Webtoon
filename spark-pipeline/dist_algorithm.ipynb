{
 "cells": [
  {
   "cell_type": "code",
   "execution_count": 1,
   "metadata": {},
   "outputs": [],
   "source": [
    "import findspark\n",
    "findspark.init('/home/hadoop/spark-2.2.2-bin-hadoop2.7')\n",
    "from pyspark import SparkContext, SparkConf\n",
    "from pyspark.sql import SQLContext\n",
    "conf = SparkConf().setMaster(\"spark://master:7077\")\n",
    "sc = SparkContext.getOrCreate()\n",
    "sqlcontext = SQLContext(sc)"
   ]
  },
  {
   "cell_type": "code",
   "execution_count": 100,
   "metadata": {
    "scrolled": true
   },
   "outputs": [
    {
     "name": "stdout",
     "output_type": "stream",
     "text": [
      "+---+------+------+------------+\n",
      "|_c0|     0|     1|           2|\n",
      "+---+------+------+------------+\n",
      "|  0|186814|742349| 0.182584116|\n",
      "|  1|563786|742349| 0.197973076|\n",
      "|  2|680193|742349|  0.25157314|\n",
      "|  3|685989|742349| 0.267482115|\n",
      "|  4|703852|742349| 0.104270999|\n",
      "|  5|703856|742349| 0.187936461|\n",
      "|  6|720190|742349| 0.215755544|\n",
      "|  7|728751|742349|0.0790675577|\n",
      "|  8|260510|742349| 0.213686329|\n",
      "|  9|312979|742349| 0.411003595|\n",
      "| 10|325631|742349| 0.281914946|\n",
      "| 11|644182|742349|0.0844898709|\n",
      "| 12|654138|742349| 0.124556778|\n",
      "| 13|729047|742349| 0.201668716|\n",
      "| 14|731939|742349|0.0713034077|\n",
      "| 15|737378|742349| 0.260800984|\n",
      "| 16| 22896|742349| 0.141093713|\n",
      "| 17|641253|742349|   0.1311179|\n",
      "| 18|642598|742349| 0.266048767|\n",
      "| 19|713975|742349| 0.176263051|\n",
      "+---+------+------+------------+\n",
      "only showing top 20 rows\n",
      "\n"
     ]
    }
   ],
   "source": [
    "dist_df=sqlcontext.read.option(\"header\",\"true\").csv('hdfs://master:9000/user/hadoop/dist.csv')\n",
    "dist_df.show()"
   ]
  },
  {
   "cell_type": "code",
   "execution_count": 101,
   "metadata": {},
   "outputs": [
    {
     "name": "stdout",
     "output_type": "stream",
     "text": [
      "+-----+----------+-------+------------+\n",
      "|index|comparison|webtoon|    distance|\n",
      "+-----+----------+-------+------------+\n",
      "|  335|    708453| 742349|0.0460525463|\n",
      "|  305|    651673| 742349|0.0486622192|\n",
      "|  239|    732256| 742349|0.0492225898|\n",
      "|  449|    740034| 742349|0.0518217632|\n",
      "|  302|     58293| 742349|0.0518996559|\n",
      "+-----+----------+-------+------------+\n",
      "only showing top 5 rows\n",
      "\n"
     ]
    }
   ],
   "source": [
    "import pyspark.sql.functions as F\n",
    "\n",
    "dist_df = dist_df.select(F.col(\"_c0\").alias(\"index\"), F.col(\"0\").alias(\"comparison\"), F.col(\"1\").alias(\"webtoon\"), F.col(\"2\").alias(\"distance\"))\n",
    "dist_df.orderBy(\"distance\", ascending=True).show(5)"
   ]
  },
  {
   "cell_type": "code",
   "execution_count": 102,
   "metadata": {},
   "outputs": [],
   "source": [
    "dict_df=sqlcontext.read.json('hdfs://master:9000/user/hadoop/dict.json')"
   ]
  },
  {
   "cell_type": "code",
   "execution_count": 105,
   "metadata": {
    "scrolled": false
   },
   "outputs": [
    {
     "name": "stdout",
     "output_type": "stream",
     "text": [
      "+-----+----------+---------+------------+\n",
      "|index|comparison|  webtoon|    distance|\n",
      "+-----+----------+---------+------------+\n",
      "|    0|   심부름센터 K|나의 첫번째 새벽| 0.182584116|\n",
      "|    1|OH, MY ...|나의 첫번째 새벽| 0.197973076|\n",
      "|    2|한국만화거장전...|나의 첫번째 새벽|  0.25157314|\n",
      "|    3|        폰령|나의 첫번째 새벽| 0.267482115|\n",
      "|    4|  바른연애 길잡이|나의 첫번째 새벽| 0.104270999|\n",
      "|    5|   8월의 눈보라|나의 첫번째 새벽| 0.187936461|\n",
      "|    6|      머니게임|나의 첫번째 새벽| 0.215755544|\n",
      "|    7|      괴물신부|나의 첫번째 새벽|0.0790675577|\n",
      "|    8|MODERN ...|나의 첫번째 새벽| 0.213686329|\n",
      "|    9|힘내요 일본!...|나의 첫번째 새벽| 0.411003595|\n",
      "|   10|     시간의 섬|나의 첫번째 새벽| 0.281914946|\n",
      "|   11|     지새는 달|나의 첫번째 새벽|0.0844898709|\n",
      "|   12|은주의 방 2~3부|나의 첫번째 새벽| 0.124556778|\n",
      "|   13|       공유몽|나의 첫번째 새벽| 0.201668716|\n",
      "|   14|     나의 우주|나의 첫번째 새벽|0.0713034077|\n",
      "|   15|      블루투스|나의 첫번째 새벽| 0.260800984|\n",
      "|   16|     핑크레이디|나의 첫번째 새벽| 0.141093713|\n",
      "|   17|    외모지상주의|나의 첫번째 새벽|   0.1311179|\n",
      "|   18|    조선왕조실톡|나의 첫번째 새벽| 0.266048767|\n",
      "|   19|     데드라이프|나의 첫번째 새벽| 0.176263051|\n",
      "+-----+----------+---------+------------+\n",
      "only showing top 20 rows\n",
      "\n",
      "+-----+----------+---------+------------+\n",
      "|index|comparison|  webtoon|    distance|\n",
      "+-----+----------+---------+------------+\n",
      "|  335|고교생을 환불...|나의 첫번째 새벽|0.0460525463|\n",
      "|  305|   유미의 세포들|나의 첫번째 새벽|0.0486622192|\n",
      "|  239|      유령극단|나의 첫번째 새벽|0.0492225898|\n",
      "|  449|    견우와 선녀|나의 첫번째 새벽|0.0518217632|\n",
      "|  302|      가족사진|나의 첫번째 새벽|0.0518996559|\n",
      "+-----+----------+---------+------------+\n",
      "only showing top 5 rows\n",
      "\n"
     ]
    }
   ],
   "source": [
    "df_dict = dict_df.take(1)[0].asDict()\n",
    "\n",
    "def add_descriptions(in_dict):\n",
    "    def f(x):\n",
    "        return in_dict.get(x)\n",
    "    return F.udf(f)\n",
    "\n",
    "matched_df = dist_df.withColumn(\n",
    "    \"comparison\",\n",
    "    add_descriptions(df_dict)(dist_df.comparison)\n",
    ")\n",
    "\n",
    "matched_df = matched_df.withColumn(\n",
    "    \"webtoon\",\n",
    "    add_descriptions(df_dict)(matched_df.webtoon)\n",
    ")\n",
    "\n",
    "matched_df.show()\n",
    "\n",
    "matched_df.orderBy(\"distance\", ascending=True).show(5)"
   ]
  },
  {
   "cell_type": "code",
   "execution_count": null,
   "metadata": {},
   "outputs": [],
   "source": []
  }
 ],
 "metadata": {
  "kernelspec": {
   "display_name": "venv",
   "language": "python",
   "name": "venv"
  },
  "language_info": {
   "codemirror_mode": {
    "name": "ipython",
    "version": 3
   },
   "file_extension": ".py",
   "mimetype": "text/x-python",
   "name": "python",
   "nbconvert_exporter": "python",
   "pygments_lexer": "ipython3",
   "version": "3.5.2"
  }
 },
 "nbformat": 4,
 "nbformat_minor": 2
}
